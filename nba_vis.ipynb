{
 "cells": [
  {
   "cell_type": "markdown",
   "metadata": {},
   "source": [
    "### **We are creating a betting app, that hopefully helps the user place smarter bets. How do we do this?**\n",
    "###### let's think ##"
   ]
  },
  {
   "cell_type": "markdown",
   "metadata": {},
   "source": [
    "### Bets are based on what? ###\n",
    "- Team stats (+/- OU, ML)\n",
    "- Player Stats (Pts, Reb, Ast)\n",
    "- Game-based Stats (First to X, First-half)\n",
    "- Stat Combinations (Pts+Reb, Double-Double)"
   ]
  },
  {
   "cell_type": "markdown",
   "metadata": {},
   "source": [
    "We will need a way to:\n",
    "1. Intake stats from sources (Web, CSV, SQL, etc.)\n",
    "2. Relational db of players with stats\n",
    "3. Analyze via functions"
   ]
  },
  {
   "cell_type": "markdown",
   "metadata": {},
   "source": [
    "Keeping simplicity in mind, the easiest functionality we can code is accessing a single player's stats (we'll use points) for the current 2022 NBA Season.\n",
    "\n",
    "CSV's would be an easy choice, but it will be outdated as the season progresses. \n",
    "We could manually code a web-scraper, but this would require a long time investment and time is valuable.\n",
    "API commands to pull from a source are a good compromise.\n",
    "\n",
    "For now, let's deal with CSV's."
   ]
  },
  {
   "cell_type": "code",
   "execution_count": null,
   "metadata": {
    "tags": []
   },
   "outputs": [],
   "source": [
    "import pandas as pd # Module Importing\n",
    "import matplotlib.pyplot as plt"
   ]
  },
  {
   "cell_type": "code",
   "execution_count": null,
   "metadata": {
    "tags": []
   },
   "outputs": [],
   "source": [
    "df = pd.read_csv('/Users/kareemtaha/Downloads/2022-2023 NBA Player Stats - Regular.csv', sep=\";\", index_col=0, encoding = 'latin') # the csv uses colons (;) instead of commas (,) to separate values\n",
    "#df = df.drop(columns=\"Rk\") # drop unnecessary Rk column. Useful if we used player names as our index, but that complicates functions later, so we just leave RK.\n",
    "df"
   ]
  },
  {
   "cell_type": "markdown",
   "metadata": {},
   "source": [
    "Great! We have our players this season, their teams, and their stats. Let's return one player."
   ]
  },
  {
   "cell_type": "code",
   "execution_count": null,
   "metadata": {},
   "outputs": [],
   "source": [
    "df.query('Player==\"Marcus Smart\"') # via query\n",
    "df[df['Player'] == 'Marcus Smart'] # via series (same code)"
   ]
  },
  {
   "cell_type": "code",
   "execution_count": null,
   "metadata": {},
   "outputs": [],
   "source": [
    "All_Stats = df.columns.values.tolist()\n",
    "Qual_Stats = [\"Pos\", \"Tm\"]\n",
    "Quant_Stats = [\"Age\", \"G\", \"GS\", \"MP\", \"PTS\", \"FG\", \"FGA\", \"FG%\", \"3P\", \"3PA\", \"3P%\", \"2P\",\"2PA\",\"2P%\",\"eFG%\",\"FT\",\"FTA\",\"FT%\",\"ORB\",\"DRB\",\"TRB\",\"AST\",\"STL\",\"BLK\",\"TOV\",\"PF\"]"
   ]
  },
  {
   "cell_type": "code",
   "execution_count": null,
   "metadata": {},
   "outputs": [],
   "source": [
    "def parse_player_df(d, players, stats = Quant_Stats.copy()):\n",
    "    if stats != None: #User specifies certain stats (non-default)\n",
    "        stats = stats.copy()\n",
    "        try: assert \"Player\" in stats #Makes sure that when we shrink the df to those stats, we don't accidentally remove the Player Name col (needed for compares)\n",
    "        except AssertionError: stats.append(\"Player\") \n",
    "        d = d[stats]\n",
    "    return d[d['Player'].isin(players)]\n",
    "\n",
    "pd.concat([parse_player_df(df, [\"Damian Lillard\", \"Stephen Curry\", \"Kevin Durant\"], All_Stats), \n",
    "            parse_player_df(df, [\"LeBron James\"], All_Stats), \n",
    "            parse_player_df(df, [\"Josh Hart\", \"Nassir Little\"], All_Stats)])"
   ]
  },
  {
   "cell_type": "markdown",
   "metadata": {},
   "source": [
    "We can now compare two players current league stats. Neat.\n",
    "\n",
    "Next, let's see some visuals since I am tired of seeing words and text."
   ]
  },
  {
   "cell_type": "code",
   "execution_count": null,
   "metadata": {},
   "outputs": [],
   "source": [
    "def Visualize_Stats(d, players, stats = Quant_Stats, to_list = False, stacked_bar = False):\n",
    "    try: assert len(stats) > 0# Stats Setup - Ensure we don't accidentally remove the Player Name col (needed for compares) {\n",
    "    except AssertionError: stats = [\"PTS\"] # .. \n",
    "\n",
    "    stats = stats.copy()\n",
    "    d = d[[\"Player\"] + stats]                  # .. - shrink to stats (retain player to search their stats later)                          # ..\n",
    "    d = parse_player_df(d, players, stats = stats)\n",
    "    return_stats = []\n",
    "\n",
    "    num_players = len(players)                 # .. } Stats Setup\n",
    "    if num_players > 1 and not stacked_bar: fig, ax = plt.subplots(num_players, figsize=(15,3.5 * num_players))\n",
    "    else: plt.figure(figsize=(15,3.5))\n",
    "\n",
    "    if stacked_bar:\n",
    "        plt.title(f\"{players} stat comparison:\")\n",
    "\n",
    "\n",
    "\n",
    "    for i in range(num_players):\n",
    "        name = players[i]\n",
    "        player_df = d[d['Player'] == name]   \n",
    "        player_stats = []  \n",
    "\n",
    "        for stat in stats:\n",
    "            value = player_df[stat].iat[0]\n",
    "            if \"%\" in stat: value *= 100\n",
    "            if type(value) != str: value = round(value,2);player_stats.append(value)\n",
    "\n",
    "        if stacked_bar:                 # If graph is stacked\n",
    "            b = plt.bar(x = stats, height = player_stats)\n",
    "            plt.bar_label(b, player_stats) # Add player stats to the bars\n",
    "\n",
    "        else:\n",
    "            match num_players: # Non-stacked graph: Check how many players\n",
    "                case 1: # 1 player : Use one graph\n",
    "                    plt.title(f\"{name}'s stats:\")\n",
    "                    b = plt.bar(x = stats, height = player_stats) \n",
    "                    plt.bar_label(b, player_stats)#if !to_list: (complete this if block if you want to_list to not also graph stats\n",
    "                case _: # 2+ players : Use 2+ graphs\n",
    "                    ax[i].set_title(f\"{name}'s stats:\")\n",
    "                    b = ax[i].bar(x=stats, height=player_stats)\n",
    "                    ax[i].bar_label(b, player_stats)#if !to_list: (complete this if block if you want to_list to not also graph stats\n",
    "                    #ax[i].legend()\n",
    "        \n",
    "        return_stats.append([name] + player_stats) # Add player stats to all stats to return\n",
    "    \n",
    "    plt.legend(players)\n",
    "    if to_list: return return_stats\n",
    "\n",
    "#Visualize_Stats(df, players = [\"Damian Lillard\"])\n",
    "#Visualize_Stats(df, players = [\"Damian Lillard\"], to_list=True)\n",
    "Visualize_Stats(df, players = [\"Damian Lillard\", \"Josh Hart\"], stats=Quant_Stats, stacked_bar=False)\n",
    "#f = Visualize_Stats(df, players = [\"Damian Lillard\", \"Stephen Curry\"], to_list=True)\n",
    "#f[1]\n"
   ]
  },
  {
   "cell_type": "markdown",
   "metadata": {},
   "source": [
    "We can now visualize a player's stats and compare them to someone else's.\n",
    "## What do we do now?"
   ]
  },
  {
   "cell_type": "markdown",
   "metadata": {},
   "source": [
    "###### Great question"
   ]
  },
  {
   "attachments": {},
   "cell_type": "markdown",
   "metadata": {},
   "source": [
    "First let's create a function that let's us live compare players: "
   ]
  },
  {
   "cell_type": "code",
   "execution_count": null,
   "metadata": {},
   "outputs": [],
   "source": [
    "def Live_Compare(d, stacked_bar = False):\n",
    "    selected = []\n",
    "    players = d['Player'].values\n",
    "    player = input(\"Which player's stats would you like to see? (' ' to terminate)\")\n",
    "\n",
    "    while player in players:\n",
    "        selected.append(player)\n",
    "        player = input(\"Which player's stats would you like to see? (' ' to terminate)\")\n",
    "    \n",
    "    if len(selected) > 0: Visualize_Stats(d, selected, stacked_bar = stacked_bar)\n",
    "    else: print(\"No players given!\")\n",
    "\n",
    "#Compare_Players(df)\n",
    "Live_Compare(df, True)\n",
    "\n",
    "\n"
   ]
  },
  {
   "cell_type": "markdown",
   "metadata": {},
   "source": [
    "Not bad, but now we need to work with more insightful data than season averages if we want to do advanced computations. Let's get game-by-game info's for players (We'll use LeBron's stats from (https://www.basketball-reference.com/players/j/jamesle01/gamelog/2023))."
   ]
  },
  {
   "cell_type": "code",
   "execution_count": null,
   "metadata": {},
   "outputs": [],
   "source": [
    "lebron_2023_html = pd.read_html(\"https://www.basketball-reference.com/players/j/jamesle01/gamelog/2023#pgl_basic\", match=\"Regular Season\")[0].copy() # returns html tables list\n",
    "lebron_2023_html\n",
    "\n",
    "lebron_2023 = lebron_2023_html.copy() # re-copy from the html table to not accidentally overwrite data\n",
    "lebron_2023.rename(columns = {'Unnamed: 5':'Away', 'Unnamed: 7': 'Result'}, inplace = True) # Rename columns properly\n",
    "lebron_2023.set_index('Rk', inplace = True) # Set the Rk number (team game) as the index\n",
    "lebron_2023['Away'].mask(lebron_2023['Away'] == '@', True, inplace=True) ; lebron_2023['Away'] = lebron_2023['Away'].fillna(False) # replace values in away column with bool\n",
    "lebron_2023 = lebron_2023.dropna(subset=['G']) # drop unplayed games\n",
    "lebron_2023 = lebron_2023[lebron_2023['G'] != 'G']\n",
    "lebron_2023"
   ]
  },
  {
   "attachments": {},
   "cell_type": "markdown",
   "metadata": {},
   "source": [
    "And the same for career stats. We need to get the years that LeBron has played, so we know which years to look up his per-game stats. We will extend this to every player."
   ]
  },
  {
   "cell_type": "code",
   "execution_count": null,
   "metadata": {},
   "outputs": [],
   "source": [
    "def get_player_career_stats(player_tag): return pd.read_html(f\"https://www.basketball-reference.com/players/{player_tag[0]}/{player_tag}.html#per_game\")[0].copy()\n",
    "\n",
    "lebron_tag = \"jamesle01\"\n",
    "lebron_career_stats = get_player_career_stats(lebron_tag)\n",
    "lebron_career_stats"
   ]
  },
  {
   "cell_type": "code",
   "execution_count": null,
   "metadata": {},
   "outputs": [],
   "source": [
    "lebron_career = lebron_career_stats.copy()                                             # Get the per-game stats for the player's career\n",
    "lebron_career.dropna(subset=['Age'], inplace=True)                                    # drop unplayed seasons (bloater rows)\n",
    "lebron_seasons = lebron_career['Season'].apply(lambda x: int(x[0:2] + x[5:7])).values # get the seasons he played\n",
    "lebron_seasons"
   ]
  },
  {
   "attachments": {},
   "cell_type": "markdown",
   "metadata": {},
   "source": [
    "Given an HTML link, we've learned how to parse the table, clean up the data into a readable format, and locate useful information to finding even further information. Given a player's NBA URL-specific tag, we can find their seasons and corresponding stats for that respective season, then clean that data in a DataFrame format."
   ]
  },
  {
   "cell_type": "code",
   "execution_count": null,
   "metadata": {},
   "outputs": [],
   "source": [
    "def get_player_seasons_list(player_tag):\n",
    "    df = pd.read_html(f'https://www.basketball-reference.com/players/{player_tag[0]}/{player_tag}.html#per_game')[0].copy()\n",
    "    df.dropna(subset=['Age'], inplace=True) # drop unplayed seasons, which is just bloater rows\n",
    "    return df['Season'].apply(lambda x: int(x[0:2] + x[5:7])).values # get the seasons he played\n",
    "\n",
    "def get_player_gamelogs(player_tag, season):\n",
    "    return pd.read_html(f\"https://www.basketball-reference.com/players/{player_tag[0]}/{player_tag}/gamelog/{season}#pgl_basic\", match=\"Regular Season\")[0].copy() # returns html tables list\n",
    "\n",
    "lebron_seasons_list = get_player_seasons_list(lebron_tag)\n",
    "lebron_season4 = get_player_gamelogs(lebron_tag, lebron_seasons_list[3])\n",
    "lebron_season4\n",
    "\n",
    "def clean_gamelogs(d, season_stats = False):\n",
    "    d = d.copy() # Copy the original df to avoid errors\n",
    "    d.dropna(subset=['Age'], inplace=True)\n",
    "    d = d[d['Age'] != 'Age'] # = d[d[\"Rk\"] != \"Rk\"] # Remove extra rows (there are rows that repeat the original column headers, but do not contain values (because the table is 80+ rows))\n",
    "    if not season_stats: \n",
    "        d.rename(columns = {'Rk':'Game', 'G':'Played','Unnamed: 5':'Away', 'Unnamed: 7': 'Result'}, inplace = True) # rename column headers\n",
    "        d.set_index('Game', inplace = True) # Set the game # as the index\n",
    "        d['Away'].mask(d['Away'] == '@', True, inplace=True);d['Away'] = d['Away'].fillna(False) # replace values in away column with bool\n",
    "        d.dropna(subset=['Played'], inplace=True) # drop unplayed games\n",
    "    return d\n",
    "\n",
    "clean_gamelogs(lebron_season4)"
   ]
  },
  {
   "cell_type": "markdown",
   "metadata": {},
   "source": [
    "We can now get a player's career stats AND season stats given the proper html links. But how do we get those links? My approach is to use HTML parsing to take them from each Team's pages."
   ]
  },
  {
   "cell_type": "code",
   "execution_count": null,
   "metadata": {},
   "outputs": [],
   "source": [
    "from bs4 import BeautifulSoup\n",
    "import urllib.request\n",
    "import re\n",
    "import time\n",
    "def pull_player_tags(roster_htmls):\n",
    "\n",
    "    player_tags = {}\n",
    "    pattern = '/[a-zA-Z]*/[a-zA-Z]/([a-zA-Z\\d]*)'\n",
    "\n",
    "    for roster in roster_htmls:\n",
    "        html_page = urllib.request.urlopen(roster)\n",
    "        soup = BeautifulSoup(html_page, \"html.parser\")\n",
    "\n",
    "        for table in soup.findAll('table', attrs={'id': 'per_game'}):\n",
    "            for tbody in table.findAll('tbody'):\n",
    "                for tr in tbody.findAll('tr'):\n",
    "                    for td in tr.findAll('td', attrs={'data-stat': ['player']}):\n",
    "                        for a in td.findAll('a'):\n",
    "                            player = a.text\n",
    "                            link = a['href']\n",
    "                            link = re.findall(pattern, link)[0]\n",
    "                    player_tags[player] = link\n",
    "    return player_tags\n",
    "\n",
    "POR_link = \"https://www.basketball-reference.com/teams/POR/2023.html#roster\"\n",
    "ATL_link = \"https://www.basketball-reference.com/teams/ATL/2023.html#all_roster\"\n",
    "POR_ATL_roster = pull_player_tags([POR_link, ATL_link])\n",
    "POR_ATL_roster"
   ]
  },
  {
   "cell_type": "code",
   "execution_count": null,
   "metadata": {},
   "outputs": [],
   "source": [
    "def pull_league_tags(return_html = True):\n",
    "\n",
    "    league_rosters = {}\n",
    "    pattern = '/[a-zA-Z]*/([a-zA-Z]*)/'\n",
    "\n",
    "    html_page = urllib.request.urlopen('https://www.basketball-reference.com/leagues/NBA_2023_standings.html')\n",
    "    soup = BeautifulSoup(html_page, \"html.parser\")\n",
    "\n",
    "    for table in soup.findAll('table', attrs={'id': ['confs_standings_E', 'confs_standings_W']}):\n",
    "        for tbody in table.findAll('tbody'):\n",
    "            for tr in tbody.findAll('tr'):\n",
    "                for th in tr.findAll('th', attrs={'data-stat': ['team_name']}):\n",
    "                    for a in th.findAll('a'):\n",
    "                        team = a.text\n",
    "                        team_link = a['href']\n",
    "                        team_link = re.findall(pattern, team_link)[0]\n",
    "                        if return_html: team_link = f'https://www.basketball-reference.com/teams/{team_link}/2023.html#roster'\n",
    "                league_rosters[team] = team_link\n",
    "    return league_rosters\n",
    "\n",
    "Rosters = pull_league_tags()\n",
    "\n",
    "temp = {}\n",
    "for team, link in Rosters.items(): temp = temp | pull_player_tags([link]) ; time.sleep(0.25)\n",
    "league_tags = temp.copy()"
   ]
  },
  {
   "cell_type": "code",
   "execution_count": null,
   "metadata": {},
   "outputs": [],
   "source": [
    "def get_player_tags(players): return [league_tags.get(key) for key in players]\n",
    "get_player_tags(['Damian Lillard','Josh Hart','Aaron Gordon'])"
   ]
  },
  {
   "attachments": {},
   "cell_type": "markdown",
   "metadata": {},
   "source": [
    "Everything is starting to come full circle, but we need to easily access roster pages for different teams if we want to pull their pages."
   ]
  },
  {
   "cell_type": "code",
   "execution_count": null,
   "metadata": {},
   "outputs": [],
   "source": [
    "def produce_player_gamelogs(players, seasons):\n",
    "    player_dfs = []\n",
    "    multiple = len(players) > 1\n",
    "    for player in players:\n",
    "        player_tag = get_player_tags([player])[0]\n",
    "        for season in seasons:\n",
    "            season_games = get_player_gamelogs(player_tag, season)\n",
    "            clean_df = clean_gamelogs(season_games)\n",
    "            clean_df['Season'] = season\n",
    "            if multiple: clean_df['Player'] = player\n",
    "            player_dfs.append(clean_df)\n",
    "    return pd.concat(player_dfs)\n",
    "produce_player_gamelogs(['Damian Lillard', 'LeBron James'], ['2021'])"
   ]
  },
  {
   "cell_type": "code",
   "execution_count": null,
   "metadata": {},
   "outputs": [],
   "source": [
    "def produce_player_career_stats(players):\n",
    "    player_dfs = []\n",
    "    multiple = len(players) > 1\n",
    "    for player in players:\n",
    "        player_tag = get_player_tags([player])[0]\n",
    "        career_stats = get_player_career_stats(player_tag)\n",
    "        clean_df = clean_gamelogs(career_stats, True)\n",
    "        if multiple: clean_df['Player'] = player\n",
    "        player_dfs.append(clean_df)\n",
    "    return pd.concat(player_dfs)\n",
    "produce_player_career_stats(['Damian Lillard', 'LeBron James'])"
   ]
  },
  {
   "cell_type": "code",
   "execution_count": null,
   "metadata": {},
   "outputs": [],
   "source": [
    "def Super_Simulate(league_tags):\n",
    "    NBA_players = league_tags.keys()\n",
    "\n",
    "    selected_players = []\n",
    "    player = input(\"Which player's stats would you like to see? (' ' to terminate)\")\n",
    "\n",
    "    while player in NBA_players:\n",
    "        selected_players.append(player)\n",
    "        player = input(\"Which other players' stats would you like to see? (' ' to terminate)\")\n",
    "    \n",
    "    selected_stats = []\n",
    "    stat = input(\"Which stat would you like to see? (' ' to terminate)\")\n",
    "    while stat != ' ':\n",
    "        selected_stats.append(stat)\n",
    "        stat = input(\"Which other stats would you like to see? (' ' to terminate)\")\n",
    "\n",
    "    selected_seasons = []\n",
    "    season = input(\"Which season would you like to see? (' ' to terminate)\")\n",
    "    while season != ' ':\n",
    "        selected_seasons.append(season)\n",
    "        season = input(\"Which other seasons would you like to see? (' ' to terminate)\")\n",
    "\n",
    "    if len(selected_players) < 1: print(\"No players given!\")\n",
    "    if len(selected_stats) < 1: print(\"No stats given!\")\n",
    "    if len(selected_seasons) < 1: print(\"No seasons given!\")\n",
    "\n",
    "    cs = produce_player_career_stats(selected_players)\n",
    "    reduced = cs[cs['Season'].apply(lambda x: x[0:4]).isin(selected_seasons)]\n",
    "    Visualize_Stats(d = reduced, players = selected_players, stats = selected_stats, to_list = False, stacked_bar = False)\n",
    "    print(reduced)\n",
    "\n",
    "#Compare_Players(df)\n",
    "Super_Simulate(league_tags)"
   ]
  },
  {
   "cell_type": "code",
   "execution_count": null,
   "metadata": {},
   "outputs": [],
   "source": []
  }
 ],
 "metadata": {
  "kernelspec": {
   "display_name": "bet_env",
   "language": "python",
   "name": "python3"
  },
  "language_info": {
   "codemirror_mode": {
    "name": "ipython",
    "version": 3
   },
   "file_extension": ".py",
   "mimetype": "text/x-python",
   "name": "python",
   "nbconvert_exporter": "python",
   "pygments_lexer": "ipython3",
   "version": "3.10.8"
  },
  "orig_nbformat": 4,
  "vscode": {
   "interpreter": {
    "hash": "a3367fb2207071c24ea111febeafb9267ffd27fb18bd541aa09120002e7ea1d8"
   }
  }
 },
 "nbformat": 4,
 "nbformat_minor": 2
}
